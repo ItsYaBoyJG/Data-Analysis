{
 "cells": [
  {
   "cell_type": "code",
   "execution_count": 40,
   "metadata": {},
   "outputs": [],
   "source": [
    "import pandas as pd\n",
    "from sklearn.model_selection import train_test_split\n",
    "from sklearn.ensemble import RandomForestClassifier\n",
    "from sklearn.metrics import accuracy_score, classification_report\n",
    "from sklearn.preprocessing import LabelEncoder\n",
    "from nba_api.stats.endpoints import leaguegamefinder, scoreboardv2, boxscorescoringv2\n",
    "from nba_api.stats.static import teams\n",
    "import matplotlib.pyplot as mtplot\n",
    "import seaborn \n",
    "import datetime\n"
   ]
  },
  {
   "cell_type": "code",
   "execution_count": null,
   "metadata": {},
   "outputs": [
    {
     "name": "stdout",
     "output_type": "stream",
     "text": [
      "  SEASON_ID     TEAM_ID TEAM_ABBREVIATION      TEAM_NAME     GAME_ID  \\\n",
      "0     22024  1610612737               ATL  Atlanta Hawks  0022400438   \n",
      "1     22024  1610612737               ATL  Atlanta Hawks  0022400427   \n",
      "2     22024  1610612737               ATL  Atlanta Hawks  0022400413   \n",
      "3     22024  1610612737               ATL  Atlanta Hawks  0022400395   \n",
      "4     22024  1610612737               ATL  Atlanta Hawks  0022400378   \n",
      "\n",
      "   GAME_DATE      MATCHUP WL  MIN  PTS  ...  FT_PCT  OREB  DREB   REB  AST  \\\n",
      "0 2024-12-29    ATL @ TOR  W  240  136  ...   0.743  14.0  26.0  40.0   30   \n",
      "1 2024-12-28  ATL vs. MIA  W  240  120  ...   0.773   9.0  38.0  47.0   34   \n",
      "2 2024-12-26  ATL vs. CHI  W  240  141  ...   0.941  12.0  32.0  44.0   32   \n",
      "3 2024-12-23  ATL vs. MIN  W  239  117  ...   0.808   6.0  32.0  38.0   27   \n",
      "4 2024-12-21  ATL vs. MEM  L  239  112  ...   0.833   6.0  35.0  41.0   29   \n",
      "\n",
      "    STL  BLK  TOV  PF  PLUS_MINUS  \n",
      "0  22.0    8   14  19        29.0  \n",
      "1   7.0    2   11  16        10.0  \n",
      "2   9.0    5   12  13         8.0  \n",
      "3  15.0    6   21  14        13.0  \n",
      "4  11.0    6   25  14       -16.0  \n",
      "\n",
      "[5 rows x 28 columns]\n",
      "0        2024-12-29\n",
      "1        2024-12-28\n",
      "2        2024-12-26\n",
      "3        2024-12-23\n",
      "4        2024-12-21\n",
      "            ...    \n",
      "104721   2017-07-06\n",
      "104722   2017-07-05\n",
      "104723   2017-07-04\n",
      "104724   2017-07-02\n",
      "104725   2017-07-01\n",
      "Name: GAME_DATE, Length: 21207, dtype: datetime64[ns]\n",
      "[{'id': 1610612737, 'full_name': 'Atlanta Hawks', 'abbreviation': 'ATL', 'nickname': 'Hawks', 'city': 'Atlanta', 'state': 'Georgia', 'year_founded': 1949}, {'id': 1610612738, 'full_name': 'Boston Celtics', 'abbreviation': 'BOS', 'nickname': 'Celtics', 'city': 'Boston', 'state': 'Massachusetts', 'year_founded': 1946}, {'id': 1610612739, 'full_name': 'Cleveland Cavaliers', 'abbreviation': 'CLE', 'nickname': 'Cavaliers', 'city': 'Cleveland', 'state': 'Ohio', 'year_founded': 1970}, {'id': 1610612740, 'full_name': 'New Orleans Pelicans', 'abbreviation': 'NOP', 'nickname': 'Pelicans', 'city': 'New Orleans', 'state': 'Louisiana', 'year_founded': 2002}, {'id': 1610612741, 'full_name': 'Chicago Bulls', 'abbreviation': 'CHI', 'nickname': 'Bulls', 'city': 'Chicago', 'state': 'Illinois', 'year_founded': 1966}, {'id': 1610612742, 'full_name': 'Dallas Mavericks', 'abbreviation': 'DAL', 'nickname': 'Mavericks', 'city': 'Dallas', 'state': 'Texas', 'year_founded': 1980}, {'id': 1610612743, 'full_name': 'Denver Nuggets', 'abbreviation': 'DEN', 'nickname': 'Nuggets', 'city': 'Denver', 'state': 'Colorado', 'year_founded': 1976}, {'id': 1610612744, 'full_name': 'Golden State Warriors', 'abbreviation': 'GSW', 'nickname': 'Warriors', 'city': 'Golden State', 'state': 'California', 'year_founded': 1946}, {'id': 1610612745, 'full_name': 'Houston Rockets', 'abbreviation': 'HOU', 'nickname': 'Rockets', 'city': 'Houston', 'state': 'Texas', 'year_founded': 1967}, {'id': 1610612746, 'full_name': 'Los Angeles Clippers', 'abbreviation': 'LAC', 'nickname': 'Clippers', 'city': 'Los Angeles', 'state': 'California', 'year_founded': 1970}, {'id': 1610612747, 'full_name': 'Los Angeles Lakers', 'abbreviation': 'LAL', 'nickname': 'Lakers', 'city': 'Los Angeles', 'state': 'California', 'year_founded': 1948}, {'id': 1610612748, 'full_name': 'Miami Heat', 'abbreviation': 'MIA', 'nickname': 'Heat', 'city': 'Miami', 'state': 'Florida', 'year_founded': 1988}, {'id': 1610612749, 'full_name': 'Milwaukee Bucks', 'abbreviation': 'MIL', 'nickname': 'Bucks', 'city': 'Milwaukee', 'state': 'Wisconsin', 'year_founded': 1968}, {'id': 1610612750, 'full_name': 'Minnesota Timberwolves', 'abbreviation': 'MIN', 'nickname': 'Timberwolves', 'city': 'Minnesota', 'state': 'Minnesota', 'year_founded': 1989}, {'id': 1610612751, 'full_name': 'Brooklyn Nets', 'abbreviation': 'BKN', 'nickname': 'Nets', 'city': 'Brooklyn', 'state': 'New York', 'year_founded': 1976}, {'id': 1610612752, 'full_name': 'New York Knicks', 'abbreviation': 'NYK', 'nickname': 'Knicks', 'city': 'New York', 'state': 'New York', 'year_founded': 1946}, {'id': 1610612753, 'full_name': 'Orlando Magic', 'abbreviation': 'ORL', 'nickname': 'Magic', 'city': 'Orlando', 'state': 'Florida', 'year_founded': 1989}, {'id': 1610612754, 'full_name': 'Indiana Pacers', 'abbreviation': 'IND', 'nickname': 'Pacers', 'city': 'Indiana', 'state': 'Indiana', 'year_founded': 1976}, {'id': 1610612755, 'full_name': 'Philadelphia 76ers', 'abbreviation': 'PHI', 'nickname': '76ers', 'city': 'Philadelphia', 'state': 'Pennsylvania', 'year_founded': 1949}, {'id': 1610612756, 'full_name': 'Phoenix Suns', 'abbreviation': 'PHX', 'nickname': 'Suns', 'city': 'Phoenix', 'state': 'Arizona', 'year_founded': 1968}, {'id': 1610612757, 'full_name': 'Portland Trail Blazers', 'abbreviation': 'POR', 'nickname': 'Trail Blazers', 'city': 'Portland', 'state': 'Oregon', 'year_founded': 1970}, {'id': 1610612758, 'full_name': 'Sacramento Kings', 'abbreviation': 'SAC', 'nickname': 'Kings', 'city': 'Sacramento', 'state': 'California', 'year_founded': 1948}, {'id': 1610612759, 'full_name': 'San Antonio Spurs', 'abbreviation': 'SAS', 'nickname': 'Spurs', 'city': 'San Antonio', 'state': 'Texas', 'year_founded': 1976}, {'id': 1610612760, 'full_name': 'Oklahoma City Thunder', 'abbreviation': 'OKC', 'nickname': 'Thunder', 'city': 'Oklahoma City', 'state': 'Oklahoma', 'year_founded': 1967}, {'id': 1610612761, 'full_name': 'Toronto Raptors', 'abbreviation': 'TOR', 'nickname': 'Raptors', 'city': 'Toronto', 'state': 'Ontario', 'year_founded': 1995}, {'id': 1610612762, 'full_name': 'Utah Jazz', 'abbreviation': 'UTA', 'nickname': 'Jazz', 'city': 'Utah', 'state': 'Utah', 'year_founded': 1974}, {'id': 1610612763, 'full_name': 'Memphis Grizzlies', 'abbreviation': 'MEM', 'nickname': 'Grizzlies', 'city': 'Memphis', 'state': 'Tennessee', 'year_founded': 1995}, {'id': 1610612764, 'full_name': 'Washington Wizards', 'abbreviation': 'WAS', 'nickname': 'Wizards', 'city': 'Washington', 'state': 'District of Columbia', 'year_founded': 1961}, {'id': 1610612765, 'full_name': 'Detroit Pistons', 'abbreviation': 'DET', 'nickname': 'Pistons', 'city': 'Detroit', 'state': 'Michigan', 'year_founded': 1948}, {'id': 1610612766, 'full_name': 'Charlotte Hornets', 'abbreviation': 'CHA', 'nickname': 'Hornets', 'city': 'Charlotte', 'state': 'North Carolina', 'year_founded': 1988}]\n"
     ]
    }
   ],
   "source": [
    "nba_teams = teams.get_teams()\n",
    "team_abr_to_id = {i['abbreviation']: i['id'] for i in nba_teams}\n",
    "allgames = pd.DataFrame()\n",
    "games_from_17_on = pd.DataFrame()\n",
    "\n",
    "\n",
    "for i in nba_teams:\n",
    "    id = i['id']\n",
    "    gamefinder = leaguegamefinder.LeagueGameFinder(team_id_nullable=id)\n",
    "    g = gamefinder.get_data_frames()[0]\n",
    "    allgames = pd.concat([allgames, g], ignore_index=True)\n",
    "\n",
    "allgames['GAME_DATE'] = pd.to_datetime(allgames['GAME_DATE'])\n",
    "\n",
    "games_from_17_on = allgames[allgames['GAME_DATE'] > datetime.datetime(2017, 5,5,0,0,0,0)]\n",
    "\n",
    "print(games_from_17_on.head())\n",
    "print(games_from_17_on['GAME_DATE'])\n",
    "\n",
    "print(nba_teams)"
   ]
  },
  {
   "cell_type": "code",
   "execution_count": 30,
   "metadata": {},
   "outputs": [
    {
     "name": "stderr",
     "output_type": "stream",
     "text": [
      "C:\\Users\\gosho\\AppData\\Local\\Temp\\ipykernel_19452\\3693900769.py:1: SettingWithCopyWarning: \n",
      "A value is trying to be set on a copy of a slice from a DataFrame.\n",
      "Try using .loc[row_indexer,col_indexer] = value instead\n",
      "\n",
      "See the caveats in the documentation: https://pandas.pydata.org/pandas-docs/stable/user_guide/indexing.html#returning-a-view-versus-a-copy\n",
      "  games_from_17_on['WIN'] = games_from_17_on['WL'].apply(lambda x: 1 if x == 'W' else 0)\n",
      "C:\\Users\\gosho\\AppData\\Local\\Temp\\ipykernel_19452\\3693900769.py:2: SettingWithCopyWarning: \n",
      "A value is trying to be set on a copy of a slice from a DataFrame.\n",
      "Try using .loc[row_indexer,col_indexer] = value instead\n",
      "\n",
      "See the caveats in the documentation: https://pandas.pydata.org/pandas-docs/stable/user_guide/indexing.html#returning-a-view-versus-a-copy\n",
      "  games_from_17_on['PTS'] = games_from_17_on['PTS']\n",
      "C:\\Users\\gosho\\AppData\\Local\\Temp\\ipykernel_19452\\3693900769.py:3: SettingWithCopyWarning: \n",
      "A value is trying to be set on a copy of a slice from a DataFrame.\n",
      "Try using .loc[row_indexer,col_indexer] = value instead\n",
      "\n",
      "See the caveats in the documentation: https://pandas.pydata.org/pandas-docs/stable/user_guide/indexing.html#returning-a-view-versus-a-copy\n",
      "  games_from_17_on['Points_Per_Game'] = games_from_17_on.groupby('TEAM_ID')['PTS'].transform('mean')\n",
      "C:\\Users\\gosho\\AppData\\Local\\Temp\\ipykernel_19452\\3693900769.py:13: SettingWithCopyWarning: \n",
      "A value is trying to be set on a copy of a slice from a DataFrame.\n",
      "Try using .loc[row_indexer,col_indexer] = value instead\n",
      "\n",
      "See the caveats in the documentation: https://pandas.pydata.org/pandas-docs/stable/user_guide/indexing.html#returning-a-view-versus-a-copy\n",
      "  games_from_17_on['OPPONENT_TEAM_ID'] = games_from_17_on.apply(lambda row: get_opponent(row['MATCHUP'], team_abr_to_id, row['TEAM_ID']), axis=1)\n",
      "C:\\Users\\gosho\\AppData\\Local\\Temp\\ipykernel_19452\\3693900769.py:15: SettingWithCopyWarning: \n",
      "A value is trying to be set on a copy of a slice from a DataFrame.\n",
      "Try using .loc[row_indexer,col_indexer] = value instead\n",
      "\n",
      "See the caveats in the documentation: https://pandas.pydata.org/pandas-docs/stable/user_guide/indexing.html#returning-a-view-versus-a-copy\n",
      "  games_from_17_on['HOME_GAME'] = games_from_17_on['MATCHUP'].apply(lambda i: 1 if 'vs.' in i else 0)\n",
      "C:\\Users\\gosho\\AppData\\Local\\Temp\\ipykernel_19452\\3693900769.py:16: SettingWithCopyWarning: \n",
      "A value is trying to be set on a copy of a slice from a DataFrame.\n",
      "Try using .loc[row_indexer,col_indexer] = value instead\n",
      "\n",
      "See the caveats in the documentation: https://pandas.pydata.org/pandas-docs/stable/user_guide/indexing.html#returning-a-view-versus-a-copy\n",
      "  games_from_17_on['LAST_GAME_RESULT'] = games_from_17_on.groupby('TEAM_ID')['WIN'].shift(1).fillna(0)\n"
     ]
    }
   ],
   "source": [
    "\n",
    "games_from_17_on['WIN'] = games_from_17_on['WL'].apply(lambda x: 1 if x == 'W' else 0) \n",
    "games_from_17_on['PTS'] = games_from_17_on['PTS']\n",
    "games_from_17_on['Points_Per_Game'] = games_from_17_on.groupby('TEAM_ID')['PTS'].transform('mean')\n",
    "\n",
    "\n",
    "def get_opponent(matchup, team_abbr_to_id, team_id):\n",
    "    if '@' in matchup:\n",
    "        opp_abbr = matchup.split(' @ ')[-1]\n",
    "    else:\n",
    "        opp_abbr = matchup.split(' vs ')[-1]\n",
    "    return team_abbr_to_id.get(opp_abbr, team_id)\n",
    "\n",
    "games_from_17_on['OPPONENT_TEAM_ID'] = games_from_17_on.apply(lambda row: get_opponent(row['MATCHUP'], team_abr_to_id, row['TEAM_ID']), axis=1)\n",
    "\n",
    "games_from_17_on['HOME_GAME'] = games_from_17_on['MATCHUP'].apply(lambda i: 1 if 'vs.' in i else 0)\n",
    "games_from_17_on['LAST_GAME_RESULT'] = games_from_17_on.groupby('TEAM_ID')['WIN'].shift(1).fillna(0)\n"
   ]
  },
  {
   "cell_type": "code",
   "execution_count": 31,
   "metadata": {},
   "outputs": [
    {
     "name": "stderr",
     "output_type": "stream",
     "text": [
      "C:\\Users\\gosho\\AppData\\Local\\Temp\\ipykernel_19452\\2518365936.py:3: SettingWithCopyWarning: \n",
      "A value is trying to be set on a copy of a slice from a DataFrame.\n",
      "Try using .loc[row_indexer,col_indexer] = value instead\n",
      "\n",
      "See the caveats in the documentation: https://pandas.pydata.org/pandas-docs/stable/user_guide/indexing.html#returning-a-view-versus-a-copy\n",
      "  games_from_17_on['TEAM_ID'] = lable_encoder.fit_transform(games_from_17_on['TEAM_ID'])\n",
      "C:\\Users\\gosho\\AppData\\Local\\Temp\\ipykernel_19452\\2518365936.py:4: SettingWithCopyWarning: \n",
      "A value is trying to be set on a copy of a slice from a DataFrame.\n",
      "Try using .loc[row_indexer,col_indexer] = value instead\n",
      "\n",
      "See the caveats in the documentation: https://pandas.pydata.org/pandas-docs/stable/user_guide/indexing.html#returning-a-view-versus-a-copy\n",
      "  games_from_17_on['OPPONENT_TEAM_ID'] = lable_encoder.fit_transform(games_from_17_on['OPPONENT_TEAM_ID'])\n"
     ]
    },
    {
     "name": "stdout",
     "output_type": "stream",
     "text": [
      "Accuracy 0.5551626591230552\n",
      "              precision    recall  f1-score   support\n",
      "\n",
      "           0       0.56      0.54      0.55      2120\n",
      "           1       0.55      0.57      0.56      2122\n",
      "\n",
      "    accuracy                           0.56      4242\n",
      "   macro avg       0.56      0.56      0.56      4242\n",
      "weighted avg       0.56      0.56      0.56      4242\n",
      "\n"
     ]
    }
   ],
   "source": [
    "lable_encoder = LabelEncoder()\n",
    "\n",
    "games_from_17_on['TEAM_ID'] = lable_encoder.fit_transform(games_from_17_on['TEAM_ID'])\n",
    "games_from_17_on['OPPONENT_TEAM_ID'] = lable_encoder.fit_transform(games_from_17_on['OPPONENT_TEAM_ID'])\n",
    "\n",
    "X = games_from_17_on[['TEAM_ID', 'OPPONENT_TEAM_ID', 'Points_Per_Game', 'HOME_GAME', 'LAST_GAME_RESULT']]\n",
    "y = games_from_17_on['WIN']\n",
    "X_train, X_test, y_train,y_test = train_test_split(X, y, test_size=0.2, random_state=42)\n",
    "\n",
    "model = RandomForestClassifier(n_estimators=100, random_state=42)\n",
    "model.fit(X_train, y_train)\n",
    "\n",
    "y_pred = model.predict(X_test)\n",
    "\n",
    "print(\"Accuracy\", accuracy_score(y_test, y_pred))\n",
    "print(classification_report(y_test, y_pred))"
   ]
  },
  {
   "cell_type": "code",
   "execution_count": 32,
   "metadata": {},
   "outputs": [
    {
     "name": "stdout",
     "output_type": "stream",
     "text": [
      "Feature Importance: \n",
      "                    importance\n",
      "OPPONENT_TEAM_ID    0.615211\n",
      "Points_Per_Game     0.138756\n",
      "TEAM_ID             0.136310\n",
      "HOME_GAME           0.068632\n",
      "LAST_GAME_RESULT    0.041091\n"
     ]
    }
   ],
   "source": [
    "feature_importances = pd.DataFrame(model.feature_importances_, index=X_train.columns, columns=['importance']).sort_values('importance', ascending=False)\n",
    "\n",
    "print('Feature Importance: \\n ', feature_importances)"
   ]
  },
  {
   "cell_type": "code",
   "execution_count": 34,
   "metadata": {},
   "outputs": [
    {
     "name": "stdout",
     "output_type": "stream",
     "text": [
      "  SEASON_ID  TEAM_ID TEAM_ABBREVIATION      TEAM_NAME     GAME_ID  GAME_DATE  \\\n",
      "0     22024        0               ATL  Atlanta Hawks  0022400438 2024-12-29   \n",
      "1     22024        0               ATL  Atlanta Hawks  0022400427 2024-12-28   \n",
      "2     22024        0               ATL  Atlanta Hawks  0022400413 2024-12-26   \n",
      "3     22024        0               ATL  Atlanta Hawks  0022400395 2024-12-23   \n",
      "4     22024        0               ATL  Atlanta Hawks  0022400378 2024-12-21   \n",
      "\n",
      "       MATCHUP WL  MIN  PTS  ...   STL  BLK  TOV  PF  PLUS_MINUS  WIN  \\\n",
      "0    ATL @ TOR  W  240  136  ...  22.0    8   14  19        29.0    1   \n",
      "1  ATL vs. MIA  W  240  120  ...   7.0    2   11  16        10.0    1   \n",
      "2  ATL vs. CHI  W  240  141  ...   9.0    5   12  13         8.0    1   \n",
      "3  ATL vs. MIN  W  239  117  ...  15.0    6   21  14        13.0    1   \n",
      "4  ATL vs. MEM  L  239  112  ...  11.0    6   25  14       -16.0    0   \n",
      "\n",
      "   Points_Per_Game  OPPONENT_TEAM_ID  HOME_GAME  LAST_GAME_RESULT  \n",
      "0       110.952312                24          0               0.0  \n",
      "1       110.952312                 0          1               1.0  \n",
      "2       110.952312                 0          1               1.0  \n",
      "3       110.952312                 0          1               1.0  \n",
      "4       110.952312                 0          1               1.0  \n",
      "\n",
      "[5 rows x 33 columns]\n",
      "0         136\n",
      "1         120\n",
      "2         141\n",
      "3         117\n",
      "4         112\n",
      "         ... \n",
      "104721     86\n",
      "104722     82\n",
      "104723     95\n",
      "104724     77\n",
      "104725     74\n",
      "Name: PTS, Length: 21207, dtype: int64\n"
     ]
    }
   ],
   "source": [
    "print(games_from_17_on.head())\n",
    "\n",
    "print(games_from_17_on['PTS'])"
   ]
  },
  {
   "cell_type": "code",
   "execution_count": 36,
   "metadata": {},
   "outputs": [],
   "source": [
    "games_from_17_on.to_csv('games.csv')"
   ]
  }
 ],
 "metadata": {
  "kernelspec": {
   "display_name": ".venv",
   "language": "python",
   "name": "python3"
  },
  "language_info": {
   "codemirror_mode": {
    "name": "ipython",
    "version": 3
   },
   "file_extension": ".py",
   "mimetype": "text/x-python",
   "name": "python",
   "nbconvert_exporter": "python",
   "pygments_lexer": "ipython3",
   "version": "3.12.6"
  }
 },
 "nbformat": 4,
 "nbformat_minor": 2
}
