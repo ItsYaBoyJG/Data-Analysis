{
 "cells": [
  {
   "cell_type": "code",
   "execution_count": 20,
   "metadata": {},
   "outputs": [],
   "source": [
    "import pandas as pd\n",
    "from sklearn.model_selection import train_test_split\n",
    "from sklearn.ensemble import RandomForestClassifier\n",
    "from sklearn.metrics import accuracy_score, classification_report\n",
    "from sklearn.preprocessing import LabelEncoder\n",
    "from nba_api.stats.endpoints import leaguegamefinder\n",
    "from nba_api.stats.static import teams\n",
    "import matplotlib.pyplot as mtplot\n",
    "import seaborn \n"
   ]
  },
  {
   "cell_type": "code",
   "execution_count": 27,
   "metadata": {},
   "outputs": [
    {
     "name": "stdout",
     "output_type": "stream",
     "text": [
      "       SEASON_ID     TEAM_ID TEAM_ABBREVIATION          TEAM_NAME     GAME_ID  \\\n",
      "0          22024  1610612737               ATL      Atlanta Hawks  0022400438   \n",
      "1          22024  1610612737               ATL      Atlanta Hawks  0022400427   \n",
      "2          22024  1610612737               ATL      Atlanta Hawks  0022400413   \n",
      "3          22024  1610612737               ATL      Atlanta Hawks  0022400395   \n",
      "4          22024  1610612737               ATL      Atlanta Hawks  0022400378   \n",
      "...          ...         ...               ...                ...         ...   \n",
      "107075     21988  1610612766               CHH  Charlotte Hornets  0028800062   \n",
      "107076     21988  1610612766               CHH  Charlotte Hornets  0028800052   \n",
      "107077     21988  1610612766               CHH  Charlotte Hornets  0028800024   \n",
      "107078     21988  1610612766               CHH  Charlotte Hornets  0028800015   \n",
      "107079     21988  1610612766               CHH  Charlotte Hornets  0028800008   \n",
      "\n",
      "         GAME_DATE      MATCHUP WL  MIN  PTS  ...  FT_PCT  OREB  DREB   REB  \\\n",
      "0       2024-12-29    ATL @ TOR  W  240  136  ...   0.743  14.0  26.0  40.0   \n",
      "1       2024-12-28  ATL vs. MIA  W  240  120  ...   0.773   9.0  38.0  47.0   \n",
      "2       2024-12-26  ATL vs. CHI  W  240  141  ...   0.941  12.0  32.0  44.0   \n",
      "3       2024-12-23  ATL vs. MIN  W  239  117  ...   0.808   6.0  32.0  38.0   \n",
      "4       2024-12-21  ATL vs. MEM  L  239  112  ...   0.833   6.0  35.0  41.0   \n",
      "...            ...          ... ..  ...  ...  ...     ...   ...   ...   ...   \n",
      "107075  1988-11-12    CHH @ ATL  L  238  111  ...   0.813  14.0  21.0  35.0   \n",
      "107076  1988-11-11    CHH @ WAS  L  240   87  ...   0.760  11.0  32.0  43.0   \n",
      "107077  1988-11-08  CHH vs. LAC  W  240  117  ...   0.738  17.0  38.0  55.0   \n",
      "107078  1988-11-05    CHH @ DET  L  240   85  ...   1.000  21.0  19.0  40.0   \n",
      "107079  1988-11-04  CHH vs. CLE  L  240   93  ...   0.650   7.0  24.0  31.0   \n",
      "\n",
      "        AST   STL  BLK  TOV  PF  PLUS_MINUS  \n",
      "0        30  22.0    8   14  19        29.0  \n",
      "1        34   7.0    2   11  16        10.0  \n",
      "2        32   9.0    5   12  13         8.0  \n",
      "3        27  15.0    6   21  14        13.0  \n",
      "4        29  11.0    6   25  14       -16.0  \n",
      "...     ...   ...  ...  ...  ..         ...  \n",
      "107075   30  12.0    2   19  26         NaN  \n",
      "107076   22   9.0    1   23  26         NaN  \n",
      "107077   28   9.0    1   17  31         NaN  \n",
      "107078   18   8.0    6   11  21         NaN  \n",
      "107079   27   8.0    1   24  25         NaN  \n",
      "\n",
      "[107080 rows x 28 columns]\n"
     ]
    }
   ],
   "source": [
    "nba_teams = teams.get_teams()\n",
    "team_abr_to_id = {i['abbreviation']: i['id'] for i in nba_teams}\n",
    "allgames = pd.DataFrame()\n",
    "\n",
    "for i in nba_teams:\n",
    "    id = i['id']\n",
    "    gamefinder = leaguegamefinder.LeagueGameFinder(team_id_nullable=id)\n",
    "    g = gamefinder.get_data_frames()[0]\n",
    "    allgames = pd.concat([allgames, g], ignore_index=True)\n",
    "\n",
    "print(allgames)"
   ]
  },
  {
   "cell_type": "code",
   "execution_count": 33,
   "metadata": {},
   "outputs": [],
   "source": [
    "allgames['GAME_DATE'] = pd.to_datetime(allgames['GAME_DATE'])\n",
    "allgames['WIN'] = allgames['WL'].apply(lambda x: 1 if x == 'W' else 0) \n",
    "allgames['PTS'] = allgames['PTS']\n",
    "allgames['Points_Per_Game'] = allgames.groupby('TEAM_ID')['PTS'].transform('mean')\n",
    "\n",
    "\n",
    "def get_opponent(matchup, team_abbr_to_id, team_id):\n",
    "    if '@' in matchup:\n",
    "        opp_abbr = matchup.split(' @ ')[-1]\n",
    "    else:\n",
    "        opp_abbr = matchup.split(' vs ')[-1]\n",
    "    return team_abbr_to_id.get(opp_abbr, team_id)\n",
    "\n",
    "allgames['OPPONENT_TEAM_ID'] = allgames.apply(lambda row: get_opponent(row['MATCHUP'], team_abr_to_id, row['TEAM_ID']), axis=1)\n",
    "\n",
    "allgames['HOME_GAME'] = allgames['MATCHUP'].apply(lambda i: 1 if 'vs.' in i else 0)\n",
    "allgames['LAST_GAME_RESULT'] = allgames.groupby('TEAM_ID')['WIN'].shift(1).fillna(0)\n"
   ]
  },
  {
   "cell_type": "code",
   "execution_count": 34,
   "metadata": {},
   "outputs": [
    {
     "name": "stdout",
     "output_type": "stream",
     "text": [
      "Accuracy 0.596843481509152\n",
      "              precision    recall  f1-score   support\n",
      "\n",
      "           0       0.60      0.56      0.58     10638\n",
      "           1       0.59      0.63      0.61     10778\n",
      "\n",
      "    accuracy                           0.60     21416\n",
      "   macro avg       0.60      0.60      0.60     21416\n",
      "weighted avg       0.60      0.60      0.60     21416\n",
      "\n"
     ]
    }
   ],
   "source": [
    "lable_encoder = LabelEncoder()\n",
    "\n",
    "allgames['TEAM_ID'] = lable_encoder.fit_transform(allgames['TEAM_ID'])\n",
    "allgames['OPPONENT_TEAM_ID'] = lable_encoder.fit_transform(allgames['OPPONENT_TEAM_ID'])\n",
    "\n",
    "X = allgames[['TEAM_ID', 'OPPONENT_TEAM_ID', 'Points_Per_Game', 'HOME_GAME', 'LAST_GAME_RESULT']]\n",
    "y = allgames['WIN']\n",
    "X_train, X_test, y_train,y_test = train_test_split(X, y, test_size=0.2, random_state=42)\n",
    "\n",
    "model = RandomForestClassifier(n_estimators=100, random_state=42)\n",
    "model.fit(X_train, y_train)\n",
    "\n",
    "y_pred = model.predict(X_test)\n",
    "\n",
    "print(\"Accuracy\", accuracy_score(y_test, y_pred))\n",
    "print(classification_report(y_test, y_pred))"
   ]
  },
  {
   "cell_type": "code",
   "execution_count": 35,
   "metadata": {},
   "outputs": [
    {
     "name": "stdout",
     "output_type": "stream",
     "text": [
      "Feature Importance: \n",
      "                    importance\n",
      "HOME_GAME           0.398567\n",
      "OPPONENT_TEAM_ID    0.358809\n",
      "Points_Per_Game     0.104804\n",
      "TEAM_ID             0.080394\n",
      "LAST_GAME_RESULT    0.057426\n"
     ]
    }
   ],
   "source": [
    "feature_importances = pd.DataFrame(model.feature_importances_, index=X_train.columns, columns=['importance']).sort_values('importance', ascending=False)\n",
    "\n",
    "print('Feature Importance: \\n ', feature_importances)"
   ]
  }
 ],
 "metadata": {
  "kernelspec": {
   "display_name": ".venv",
   "language": "python",
   "name": "python3"
  },
  "language_info": {
   "codemirror_mode": {
    "name": "ipython",
    "version": 3
   },
   "file_extension": ".py",
   "mimetype": "text/x-python",
   "name": "python",
   "nbconvert_exporter": "python",
   "pygments_lexer": "ipython3",
   "version": "3.12.6"
  }
 },
 "nbformat": 4,
 "nbformat_minor": 2
}
